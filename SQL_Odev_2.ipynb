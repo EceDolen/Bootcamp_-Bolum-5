{
 "cells": [
  {
   "cell_type": "markdown",
   "metadata": {},
   "source": [
    "## SQL ve Veri Erisim Yontemleri"
   ]
  },
  {
   "cell_type": "markdown",
   "metadata": {},
   "source": [
    "1. Veri tabanları ne işe yarar? SQL'i hangi amaçlarla kullanırız?"
   ]
  },
  {
   "cell_type": "markdown",
   "metadata": {},
   "source": [
    "Veri tabanlari buyuk captaki verilere ayni anda herkesin ayni sekilde erismesine olanak tanir.\n",
    "\n",
    "SQL verilerin sisteme girilmesi/kaydedilmesi, guncellenmesi /islenmesi, goruntulenmesi, gerekli alanlarin silinmesi ve istedgimiz alanlara sorgulayarak ulasmamizi saglar. "
   ]
  },
  {
   "cell_type": "markdown",
   "metadata": {},
   "source": [
    "2. Derste değişik tablo türlerinden bahsettik (raw tables/processed tables/roll-up tables). Bir veri bilimci olarak, hangi tablonun hangi tür veriler ya da uygulamalar için uygun olduğunu kestirebiliyor musunuz? Herbir tür için, uygun olduğunu düşündüğünüz bir veri yapısı belirleyin ve önerilerinizi mentörünüzle tartışın."
   ]
  },
  {
   "cell_type": "markdown",
   "metadata": {},
   "source": [
    "Raw Tables. zaman iceren, turler, cinsiyet ya da ozel isim iceren(musteri isim listesi,vs gibi) tablolar icin icerik degistirilmeden genel duruma bakilmak amaciyla siralanarak kullanilabilir; \n",
    "\n",
    "Processed Tables, daha sonra son sekli verilmek uzere kaydedilen, uzerinde calistigimiz ve sekillendirdigimiz tablolar olabilir;\n",
    "\n",
    "\n",
    "Roll-up Tables, summary tabel olarak gecen yuksek duzeyde veri iceren ve olasi kombinasyonlari sonrasinda ihtiyacimiz oldugunda getirebilen pre-aggregated degerlerden olusan tablodur. Mesela, kirmizi ve mavi renkteki gomlek ve yeleklerin toplamlarini gruplayarak saklamak. "
   ]
  }
 ],
 "metadata": {
  "kernelspec": {
   "display_name": "Python 3",
   "language": "python",
   "name": "python3"
  },
  "language_info": {
   "codemirror_mode": {
    "name": "ipython",
    "version": 3
   },
   "file_extension": ".py",
   "mimetype": "text/x-python",
   "name": "python",
   "nbconvert_exporter": "python",
   "pygments_lexer": "ipython3",
   "version": "3.7.2"
  }
 },
 "nbformat": 4,
 "nbformat_minor": 2
}
